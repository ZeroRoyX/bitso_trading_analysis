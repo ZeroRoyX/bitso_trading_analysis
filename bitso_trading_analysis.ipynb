{
 "cells": [
  {
   "attachments": {},
   "cell_type": "markdown",
   "metadata": {},
   "source": [
    "# Trading analysis on the Bitso's platform"
   ]
  },
  {
   "attachments": {},
   "cell_type": "markdown",
   "metadata": {},
   "source": [
    "Made by [ZeroRoy](https://github.com/ZeroRoyX) "
   ]
  },
  {
   "cell_type": "code",
   "execution_count": null,
   "metadata": {},
   "outputs": [],
   "source": [
    "import matplotlib.pyplot as plt\n",
    "import numpy as np\n",
    "import pandas as pd\n",
    "import seaborn as sns\n",
    "import janitor"
   ]
  },
  {
   "cell_type": "code",
   "execution_count": null,
   "metadata": {},
   "outputs": [],
   "source": [
    "# Please insert your csv document path from the trades made in Bitso into the function. \n",
    "df = pd.read_csv()\n",
    "df"
   ]
  },
  {
   "cell_type": "code",
   "execution_count": null,
   "metadata": {},
   "outputs": [],
   "source": [
    "df.info()"
   ]
  },
  {
   "attachments": {},
   "cell_type": "markdown",
   "metadata": {},
   "source": [
    "## Fixing the dataframe's columns\n",
    "\n",
    "### fee column\n",
    "For `buy` or `sell`, depending of the operation, the `fee` column is going to have a diffent calculation. If the operation is a `buy`, the fee is going to be the value of the fee in the crypto that was bought. For example, if it was BTC that you get, the fee will be in BTC. If the operation is a `sell`, the fee is going to be in your local currency. \n",
    "\n",
    "Making this simple for analysis, the `fee` column is going to be filled only with the percentage of the fee in that operation, and creating another column, `fee_amount` which is contained with the fee value in local currency.\n",
    "\n",
    "### total column\n",
    "The column has been fixed with the proper calculations. Now it contains the `value` minus the `fee` in the same currency: the total, actual money that has entered the platform.\n",
    "\n",
    "### rate column\n",
    "Fixed applying a `round` function with 2 decimals as parameter.\n",
    "\n",
    "### datetime column\n",
    "The `dtype` of the column has been changed from `object` to `datetime64`.  \n",
    "A new column has been added: `year`, so it makes the analysis easier when comparing between years.\n",
    "\n",
    "### type column\n",
    "The `dtype` of the column has been changed from `object` to `category`."
   ]
  },
  {
   "cell_type": "code",
   "execution_count": null,
   "metadata": {},
   "outputs": [],
   "source": [
    "df['fee'] = df.apply(lambda df: df.fee / df.amount * 100 if df.type == 'buy' else df.fee / df.value * 100, axis=1)\n",
    "df['fee_amount'] = df.apply(lambda df: (df.value * (df.fee / 100)), axis=1)\n",
    "df['total'] = df.apply(lambda df: df.value - (df.value * (df.fee/100)), axis=1)\n",
    "df['rate'] = df['rate'].apply(lambda df: round(df, 2))\n",
    "df['datetime'] = pd.to_datetime(df['datetime'])\n",
    "df['year'] = df['datetime'].dt.year\n",
    "# df['type'] = df['type'].astype('category')\n",
    "df"
   ]
  },
  {
   "cell_type": "code",
   "execution_count": null,
   "metadata": {},
   "outputs": [],
   "source": [
    "df.describe()"
   ]
  },
  {
   "cell_type": "code",
   "execution_count": null,
   "metadata": {},
   "outputs": [],
   "source": [
    "buy_df = df[df['type'] == 'buy']\n",
    "sell_df = df[df['type'] == 'sell']"
   ]
  },
  {
   "cell_type": "code",
   "execution_count": null,
   "metadata": {},
   "outputs": [],
   "source": [
    "# Amount of money used to buy crypto\n",
    "total_buy = buy_df.total.sum()\n",
    "total_buy\n",
    "print(\"Amount of money used to buy crypto:\", total_buy)\n",
    "\n",
    "# Amount of money retrieved by selling crypto\n",
    "total_sell = sell_df.total.sum()\n",
    "total_sell\n",
    "print(\"Amount of money by 'sell' operations:\", total_sell)\n"
   ]
  },
  {
   "cell_type": "code",
   "execution_count": null,
   "metadata": {},
   "outputs": [],
   "source": [
    "# \"Total amount of crypto and total amount of money (local currency) distributed by operation type and crypto\"\n",
    "print(\"Total amount of crypto and total amount of money (local currency) distributed by operation type:\")\n",
    "total_distribution = df.groupby(['type','major'])[['amount', 'total']].sum().reset_index()\n",
    "print(total_distribution)"
   ]
  },
  {
   "cell_type": "code",
   "execution_count": null,
   "metadata": {},
   "outputs": [],
   "source": [
    "# Exposing implicit missing values\n",
    "implicit_to_explicit_df = df.groupby(['type','major'])['amount'].sum().reset_index().complete(\n",
    "    'type',\n",
    "    'major',\n",
    "    fill_value=0\n",
    ")\n",
    "\n",
    "implicit_to_explicit_df"
   ]
  },
  {
   "cell_type": "code",
   "execution_count": null,
   "metadata": {},
   "outputs": [],
   "source": [
    "# Pivot table\n",
    "pivot_df = implicit_to_explicit_df.pivot_wider(index='major', names_from='type', values_from='amount')\n",
    "pivot_df['total_remaining'] = pivot_df['buy'] - pivot_df['sell']\n",
    "\n",
    "\n",
    "# Total balance of the cryptos in the platform, considering 'buy' - 'sell' values of the cryto.\n",
    "print(\"Crypto's total balance:\")\n",
    "print()\n",
    "print(pivot_df[['major', 'total_remaining']])"
   ]
  },
  {
   "cell_type": "code",
   "execution_count": null,
   "metadata": {},
   "outputs": [],
   "source": [
    "# Amount of fee paid with local currency\n",
    "df['fee_amount'].sum()"
   ]
  },
  {
   "cell_type": "code",
   "execution_count": null,
   "metadata": {},
   "outputs": [],
   "source": [
    "# Distribution plot about the operation value (amount of money per operation) and their count\n",
    "sns.displot(df, x='value', hue='major', multiple='stack', col='type', facet_kws={'sharey': False});"
   ]
  },
  {
   "cell_type": "code",
   "execution_count": null,
   "metadata": {},
   "outputs": [],
   "source": [
    "total_distribution['percentage'] = total_distribution.apply(lambda df: df.total / total_buy * 100 if df.type == 'buy' else df.total / total_sell * 100, axis=1)\n",
    "print(\"Distribution percentage by buy operations in local currency:\")\n",
    "print(total_distribution[total_distribution.type == 'buy'][['major','total','percentage']])\n",
    "print()\n",
    "print(\"Distribution percentage by sell operations in local currency:\")\n",
    "print(total_distribution[total_distribution.type == 'sell'][['major','total','percentage']])\n",
    "\n",
    "# Total distribution of 'buy' operations. Total amount of money distributed among the bought cryptos.\n",
    "sns.catplot(total_distribution[total_distribution.type == 'buy'], x='major', y='total', kind='bar')\n",
    "plt.title(\"Total money distributed by bought cryptos\")\n",
    "\n",
    "# Total distribution of 'sell' operations. Total amount of money distributed among the sold cryptos.\n",
    "sns.catplot(total_distribution[total_distribution.type == 'sell'], x='major', y='total', kind='bar')\n",
    "plt.title(\"Total money distributed by sold cryptos\")\n"
   ]
  },
  {
   "cell_type": "code",
   "execution_count": null,
   "metadata": {},
   "outputs": [],
   "source": [
    "df['year'] = df['datetime'].dt.year # Extracts the year\n"
   ]
  },
  {
   "cell_type": "code",
   "execution_count": null,
   "metadata": {},
   "outputs": [],
   "source": [
    "df"
   ]
  },
  {
   "cell_type": "code",
   "execution_count": null,
   "metadata": {},
   "outputs": [],
   "source": [
    "fig, ax = plt.subplots(1,2)\n",
    "sns.countplot(buy_df, x='year', hue='major', ax=ax[0])\n",
    "ax[0].set_title(\"Buy operations made by year\")\n",
    "\n",
    "sns.countplot(sell_df, x='year', hue='major', ax=ax[1])\n",
    "ax[1].set_title(\"Sell operations made by year\")\n",
    "\n",
    "fig.tight_layout()\n"
   ]
  },
  {
   "cell_type": "code",
   "execution_count": null,
   "metadata": {},
   "outputs": [],
   "source": [
    "# Weighted arithmetic mean\n",
    "w_mean = df.groupby(['year','type','major'])[['amount', 'value']].sum().reset_index().assign(weighted_mean=lambda df: df.apply(lambda row: row.value/row.amount, axis=1).round(3))\n",
    "w_mean"
   ]
  },
  {
   "cell_type": "code",
   "execution_count": null,
   "metadata": {},
   "outputs": [],
   "source": [
    "# Global weighted mean\n",
    "df.groupby(['type', 'major'])[['amount', 'value']].sum().reset_index().assign(weighted_mean=lambda df: df.apply(lambda row: row.value / row.amount, axis=1))"
   ]
  }
 ],
 "metadata": {
  "kernelspec": {
   "display_name": "football_soccer_analysis",
   "language": "python",
   "name": "python3"
  },
  "language_info": {
   "codemirror_mode": {
    "name": "ipython",
    "version": 3
   },
   "file_extension": ".py",
   "mimetype": "text/x-python",
   "name": "python",
   "nbconvert_exporter": "python",
   "pygments_lexer": "ipython3",
   "version": "3.11.0"
  },
  "orig_nbformat": 4
 },
 "nbformat": 4,
 "nbformat_minor": 2
}
